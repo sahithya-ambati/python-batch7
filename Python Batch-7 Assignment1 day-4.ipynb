{
 "cells": [
  {
   "cell_type": "code",
   "execution_count": 1,
   "metadata": {},
   "outputs": [],
   "source": [
    "#printing armstrong number"
   ]
  },
  {
   "cell_type": "code",
   "execution_count": 3,
   "metadata": {},
   "outputs": [
    {
     "name": "stdout",
     "output_type": "stream",
     "text": [
      "Enter a number: 407\n",
      "407 is an Armstrong number\n"
     ]
    }
   ],
   "source": [
    "num = int(input(\"Enter a number: \"))\n",
    "\n",
    "# initialize sum\n",
    "sum = 0\n",
    "\n",
    "# find the sum of the cube of each digit\n",
    "temp = num\n",
    "while temp > 0:\n",
    "   digit = temp % 10\n",
    "   sum += digit ** 3\n",
    "   temp //= 10\n",
    "\n",
    "# display the result\n",
    "if num == sum:\n",
    "   print(num,\"is an Armstrong number\")\n",
    "else:\n",
    "   print(num,\"is not an Armstrong number\")"
   ]
  },
  {
   "cell_type": "code",
   "execution_count": null,
   "metadata": {},
   "outputs": [
    {
     "name": "stdout",
     "output_type": "stream",
     "text": [
      "1741725\n"
     ]
    }
   ],
   "source": [
    "# Program to check Armstrong numbers in a certain interval\n",
    "\n",
    "lower = 1042000\n",
    "upper = 702648265\n",
    "\n",
    "for num in range(lower, upper + 1):\n",
    "\n",
    "   \n",
    "   order = len(str(num))\n",
    "    \n",
    "   \n",
    "   sum = 0\n",
    "\n",
    "   temp = num\n",
    "   while temp > 0:\n",
    "       digit = temp % 10\n",
    "       sum += digit ** order\n",
    "       temp //= 10\n",
    "\n",
    "   if num == sum:\n",
    "       print(num)"
   ]
  },
  {
   "cell_type": "code",
   "execution_count": null,
   "metadata": {},
   "outputs": [],
   "source": []
  }
 ],
 "metadata": {
  "kernelspec": {
   "display_name": "Python 3",
   "language": "python",
   "name": "python3"
  },
  "language_info": {
   "codemirror_mode": {
    "name": "ipython",
    "version": 3
   },
   "file_extension": ".py",
   "mimetype": "text/x-python",
   "name": "python",
   "nbconvert_exporter": "python",
   "pygments_lexer": "ipython3",
   "version": "3.8.3"
  }
 },
 "nbformat": 4,
 "nbformat_minor": 4
}
