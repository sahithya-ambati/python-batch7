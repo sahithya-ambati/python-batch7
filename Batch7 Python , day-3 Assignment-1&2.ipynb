{
 "cells": [
  {
   "cell_type": "code",
   "execution_count": 1,
   "metadata": {},
   "outputs": [
    {
     "name": "stdout",
     "output_type": "stream",
     "text": [
      "print altitude number_1000\n"
     ]
    }
   ],
   "source": [
    "num=input(\"print altitude number_\")\n",
    "num=int(num)"
   ]
  },
  {
   "cell_type": "code",
   "execution_count": 9,
   "metadata": {},
   "outputs": [
    {
     "name": "stdout",
     "output_type": "stream",
     "text": [
      "pilot to land the plane\n"
     ]
    }
   ],
   "source": [
    "if num <= 1000:\n",
    "    print(\"pilot to land the plane\")\n",
    "elif num >= 1000 and num <= 5000:\n",
    "    print(\"ask pilot come down to 1000ft\")\n",
    "elif num >= 5000:\n",
    "    print(\"ask pilot to go around\")\n",
    "else:\n",
    "    print(\"try later\")"
   ]
  },
  {
   "cell_type": "code",
   "execution_count": 10,
   "metadata": {},
   "outputs": [
    {
     "name": "stdout",
     "output_type": "stream",
     "text": [
      "print altitude number_4500\n"
     ]
    }
   ],
   "source": [
    "num=input(\"print altitude number_\")\n",
    "num=int(num)"
   ]
  },
  {
   "cell_type": "code",
   "execution_count": 11,
   "metadata": {},
   "outputs": [
    {
     "name": "stdout",
     "output_type": "stream",
     "text": [
      "ask pilot come down to 1000ft\n"
     ]
    }
   ],
   "source": [
    "if num <= 1000:\n",
    "    print(\"pilot to land the plane\")\n",
    "elif num >= 1000 and num <= 5000:\n",
    "    print(\"ask pilot come down to 1000ft\")\n",
    "elif num >= 5000:\n",
    "    print(\"ask pilot to go around\")\n",
    "else:\n",
    "    print(\"try later\")"
   ]
  },
  {
   "cell_type": "code",
   "execution_count": 12,
   "metadata": {},
   "outputs": [
    {
     "name": "stdout",
     "output_type": "stream",
     "text": [
      "print altitude number_6500\n"
     ]
    }
   ],
   "source": [
    "num=input(\"print altitude number_\")\n",
    "num=int(num)"
   ]
  },
  {
   "cell_type": "code",
   "execution_count": 13,
   "metadata": {},
   "outputs": [
    {
     "name": "stdout",
     "output_type": "stream",
     "text": [
      "ask pilot to go around\n"
     ]
    }
   ],
   "source": [
    "if num <= 1000:\n",
    "    print(\"pilot to land the plane\")\n",
    "elif num >= 1000 and num <= 5000:\n",
    "    print(\"ask pilot come down to 1000ft\")\n",
    "elif num >= 5000:\n",
    "    print(\"ask pilot to go around\")\n",
    "else:\n",
    "    print(\"try later\")"
   ]
  },
  {
   "cell_type": "markdown",
   "metadata": {},
   "source": [
    "# ASSIGNMENT-2 OF DAY 3"
   ]
  },
  {
   "cell_type": "markdown",
   "metadata": {},
   "source": []
  },
  {
   "cell_type": "code",
   "execution_count": 15,
   "metadata": {},
   "outputs": [
    {
     "name": "stdout",
     "output_type": "stream",
     "text": [
      " 2   3   5   7   11   13   17   19   23   29   31   37   41   43   47   53   59   61   67   71   73   79   83   89   97   101   103   107   109   113   127   131   137   139   149   151   157   163   167   173   179   181   191   193   197   199  "
     ]
    }
   ],
   "source": [
    "for Number in range (1, 200):\n",
    "    count = 0\n",
    "    for i in range(2, (Number//2 + 1)):\n",
    "        if(Number % i == 0):\n",
    "            count = count + 1\n",
    "            break\n",
    "\n",
    "    if (count == 0 and Number != 1):\n",
    "        print(\" %d\" %Number, end = '  ')"
   ]
  },
  {
   "cell_type": "code",
   "execution_count": null,
   "metadata": {},
   "outputs": [],
   "source": []
  }
 ],
 "metadata": {
  "kernelspec": {
   "display_name": "Python 3",
   "language": "python",
   "name": "python3"
  },
  "language_info": {
   "codemirror_mode": {
    "name": "ipython",
    "version": 3
   },
   "file_extension": ".py",
   "mimetype": "text/x-python",
   "name": "python",
   "nbconvert_exporter": "python",
   "pygments_lexer": "ipython3",
   "version": "3.8.3"
  }
 },
 "nbformat": 4,
 "nbformat_minor": 4
}
